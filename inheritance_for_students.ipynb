{
 "cells": [
  {
   "cell_type": "markdown",
   "metadata": {},
   "source": [
    "# Inheritance"
   ]
  },
  {
   "cell_type": "markdown",
   "metadata": {},
   "source": [
    "Inheritance is a fundamental concept in object-oriented programming (OOP) that allows you to create a new class (the derived or child class) based on an existing class (the base or parent class). Python, as an object-oriented programming language, supports inheritance. "
   ]
  },
  {
   "cell_type": "markdown",
   "metadata": {},
   "source": [
    "### Basics of Inheritance:\n",
    "\n",
    "- **Base Class (Parent Class):** The class whose attributes and methods are inherited by another class.\n",
    "- **Derived Class (Child Class):** The class that inherits attributes and methods from the base class.\n",
    "- **\"is-a\" Relationship:** Inheritance models an \"is-a\" relationship. For example, a \"Car\" is a \"Vehicle.\"\n",
    "\n",
    "**Syntax of Inheritance:**\n",
    "In Python, you create a derived class by specifying the base class in parentheses after the derived class name."
   ]
  },
  {
   "cell_type": "code",
   "execution_count": null,
   "metadata": {},
   "outputs": [],
   "source": [
    "class BaseClass:\n",
    "    # Base class code\n",
    "    pass\n",
    "\n",
    "class DerivedClass(BaseClass):\n",
    "    # Derived class code\n",
    "    pass\n",
    "    "
   ]
  },
  {
   "cell_type": "code",
   "execution_count": null,
   "metadata": {},
   "outputs": [],
   "source": [
    "# example of repeated code. two following classes share the common code. if we need to change behavior of the code we need to change it in two places\n",
    "# we can use inheritance to solve this problem. we can create a base class and move the common code to the base class and then inherit from the base class\n",
    "\n",
    "class Developer:\n",
    "    def eat(self):\n",
    "        print(\"eat\")\n",
    "\n",
    "    def code(self):\n",
    "        print(\"code\")\n",
    "\n",
    "class Manager:\n",
    "    def eat(self):\n",
    "        print(\"eat\")\n",
    "\n",
    "    def manage(self):\n",
    "        print(\"manage\")"
   ]
  },
  {
   "cell_type": "code",
   "execution_count": 4,
   "metadata": {},
   "outputs": [
    {
     "name": "stdout",
     "output_type": "stream",
     "text": [
      "25\n",
      "eat\n",
      "code\n"
     ]
    }
   ],
   "source": [
    "# base class\n",
    "class Human:\n",
    "    def __init__(self):\n",
    "        self.age = 25\n",
    "        print(self.age)\n",
    "\n",
    "    def eat(self):\n",
    "        print(\"eat\")\n",
    "\n",
    "# child classes\n",
    "class Developer(Human):\n",
    "    def code(self):\n",
    "        print(\"code\")\n",
    "\n",
    "class Manager(Human):\n",
    "    def manage(self):\n",
    "        print(\"manage\")\n",
    "\n",
    "d = Developer()\n",
    "d.eat()\n",
    "d.code()"
   ]
  },
  {
   "cell_type": "markdown",
   "metadata": {},
   "source": [
    "### Example 1: Simple inheritance"
   ]
  },
  {
   "cell_type": "code",
   "execution_count": 5,
   "metadata": {},
   "outputs": [],
   "source": [
    "class Parent:\n",
    "  def __init__(self, firstname, lastname):\n",
    "    self.firstname = firstname\n",
    "    self.lastname = lastname\n",
    "\n",
    "  def printname(self):\n",
    "    print(self.firstname, self.lastname)\n",
    "  \n",
    "\n",
    "class Child(Parent):\n",
    "  pass"
   ]
  },
  {
   "cell_type": "code",
   "execution_count": 8,
   "metadata": {},
   "outputs": [
    {
     "name": "stdout",
     "output_type": "stream",
     "text": [
      "Homer Simpson\n"
     ]
    }
   ],
   "source": [
    "parent_1 = Parent(\"Homer\", \"Simpson\")\n",
    "# print(\"Parent's Full Name:\", parent_1.firstname, parent_1.lastname)\n",
    "parent_1.printname()"
   ]
  },
  {
   "cell_type": "code",
   "execution_count": 9,
   "metadata": {},
   "outputs": [
    {
     "name": "stdout",
     "output_type": "stream",
     "text": [
      "Child's Full Name: Bart Simpson\n",
      "Bart Simpson\n"
     ]
    }
   ],
   "source": [
    "child_1 = Child(\"Bart\", \"Simpson\")\n",
    "print(\"Child's Full Name:\", child_1.firstname, child_1.lastname)\n",
    "child_1.printname()"
   ]
  },
  {
   "cell_type": "markdown",
   "metadata": {},
   "source": [
    "When a class inherits from another class, it inherits both attributes and methods defined in the parent class. In this case:\n",
    "\n",
    "1. **Attributes Inherited:**\n",
    "\n",
    "    - The `Child` class inherits the attributes firstname and lastname from the `Parent` class. This means that instances of the `Child` class will also have these attributes.\n",
    "\n",
    "2. **Methods Inherited:**\n",
    "\n",
    "    - The `Child` class inherits the method printname from the `Parent` class. Instances of the `Child` class can also call and use this method."
   ]
  },
  {
   "cell_type": "markdown",
   "metadata": {},
   "source": [
    "### Example 2: Simple inheritance w/` __init__()`"
   ]
  },
  {
   "cell_type": "code",
   "execution_count": 11,
   "metadata": {},
   "outputs": [],
   "source": [
    "class Parent:\n",
    "    def __init__(self, fname, lname):\n",
    "      self.firstname = fname\n",
    "      self.lastname = lname\n",
    "\n",
    "    def printname(self):\n",
    "      print(self.firstname, self.lastname)\n",
    "\n",
    "    def test(self):\n",
    "      print('test')\n",
    "      \n",
    "class Child(Parent):\n",
    "    def __init__(self, fname, lname):\n",
    "      self.fname = fname\n",
    "      self.lname = lname"
   ]
  },
  {
   "cell_type": "code",
   "execution_count": 14,
   "metadata": {},
   "outputs": [
    {
     "name": "stdout",
     "output_type": "stream",
     "text": [
      "Child's Full Name: Bart Simpson\n",
      "test\n"
     ]
    },
    {
     "ename": "AttributeError",
     "evalue": "'Child' object has no attribute 'firstname'",
     "output_type": "error",
     "traceback": [
      "\u001b[0;31m---------------------------------------------------------------------------\u001b[0m",
      "\u001b[0;31mAttributeError\u001b[0m                            Traceback (most recent call last)",
      "\u001b[1;32m/Users/mirunanitu/Desktop/Demos/inheritance.ipynb Cell 14\u001b[0m in \u001b[0;36m<cell line: 6>\u001b[0;34m()\u001b[0m\n\u001b[1;32m      <a href='vscode-notebook-cell:/Users/mirunanitu/Desktop/Demos/inheritance.ipynb#X20sZmlsZQ%3D%3D?line=3'>4</a>\u001b[0m \u001b[39mprint\u001b[39m(\u001b[39m\"\u001b[39m\u001b[39mChild\u001b[39m\u001b[39m'\u001b[39m\u001b[39ms Full Name:\u001b[39m\u001b[39m\"\u001b[39m, child_1\u001b[39m.\u001b[39mfname, child_1\u001b[39m.\u001b[39mlname)\n\u001b[1;32m      <a href='vscode-notebook-cell:/Users/mirunanitu/Desktop/Demos/inheritance.ipynb#X20sZmlsZQ%3D%3D?line=4'>5</a>\u001b[0m child_1\u001b[39m.\u001b[39mtest()\n\u001b[0;32m----> <a href='vscode-notebook-cell:/Users/mirunanitu/Desktop/Demos/inheritance.ipynb#X20sZmlsZQ%3D%3D?line=5'>6</a>\u001b[0m child_1\u001b[39m.\u001b[39;49mprintname()\n",
      "\u001b[1;32m/Users/mirunanitu/Desktop/Demos/inheritance.ipynb Cell 14\u001b[0m in \u001b[0;36mParent.printname\u001b[0;34m(self)\u001b[0m\n\u001b[1;32m      <a href='vscode-notebook-cell:/Users/mirunanitu/Desktop/Demos/inheritance.ipynb#X20sZmlsZQ%3D%3D?line=5'>6</a>\u001b[0m \u001b[39mdef\u001b[39;00m \u001b[39mprintname\u001b[39m(\u001b[39mself\u001b[39m):\n\u001b[0;32m----> <a href='vscode-notebook-cell:/Users/mirunanitu/Desktop/Demos/inheritance.ipynb#X20sZmlsZQ%3D%3D?line=6'>7</a>\u001b[0m   \u001b[39mprint\u001b[39m(\u001b[39mself\u001b[39;49m\u001b[39m.\u001b[39;49mfirstname, \u001b[39mself\u001b[39m\u001b[39m.\u001b[39mlastname)\n",
      "\u001b[0;31mAttributeError\u001b[0m: 'Child' object has no attribute 'firstname'"
     ]
    }
   ],
   "source": [
    "child_1 = Child(\"Bart\", \"Simpson\")\n",
    "print(f'Is the Child Class a subclass of the Parent Class?: {issubclass(Child, Parent)}')\n",
    "\n",
    "print(\"Child's Full Name:\", child_1.fname, child_1.lname)\n",
    "child_1.test()\n",
    "child_1.printname() #child_1.printname('Mike')  would work"
   ]
  },
  {
   "cell_type": "markdown",
   "metadata": {},
   "source": [
    "In the provided code, both the `Parent` and `Child` classes have constructors (__init__) defined. However, the `Child` class defines its own constructor without explicitly calling the constructor of the `Parent` class using super().__init__() or Parent.__init__(self, ...). This has implications for how the `Child` class handles attribute initialization and method overriding.\n",
    "\n",
    "Here's what happens in this code:\n",
    "\n",
    "**Attributes in `Child` Class:**\n",
    "\n",
    "- The `Child` class defines its own attributes fname and lname, which are separate from the attributes firstname and lastname inherited from the `Parent` class.\n",
    "- This means that the `Child` class does not directly inherit the attributes from the `Parent` class but defines its own attributes with similar names.\n",
    "\n",
    "**Methods in `Child` Class:**\n",
    "- The functions are still inherited but those which use attributes from the `Parents` constructor will throw an error as the `Child` has not inherited them.\n"
   ]
  },
  {
   "cell_type": "markdown",
   "metadata": {},
   "source": [
    "### Example 3: Simple inheritance w/ `Parent.__init__()` & function override"
   ]
  },
  {
   "cell_type": "code",
   "execution_count": 16,
   "metadata": {},
   "outputs": [],
   "source": [
    "class Parent:\n",
    "    def __init__(self, fname, lname):\n",
    "      self.firstname = fname\n",
    "      self.lastname = lname\n",
    "\n",
    "    def printname(self):\n",
    "      print(self.firstname, self.lastname)\n",
    "\n",
    "\n",
    "class Child(Parent):\n",
    "    def __init__(self, fname, lname):\n",
    "      Parent.__init__(self, fname, lname)\n",
    "      # This line effectively invokes the constructor of the parent class (Parent)\n",
    "      #  and passes the self reference, fname, and lname as arguments to the parent class's constructor.\n",
    "      \n",
    "  # Example of method overiding\n",
    "    def printname(self, alt_name):\n",
    "      print(alt_name)"
   ]
  },
  {
   "cell_type": "code",
   "execution_count": null,
   "metadata": {},
   "outputs": [],
   "source": [
    "parent_1 = Parent(\"Homer\", \"Simpson\")\n",
    "print(\"Parent's Full Name:\", parent_1.firstname, parent_1.lastname)\n",
    "parent_1.printname()"
   ]
  },
  {
   "cell_type": "code",
   "execution_count": 18,
   "metadata": {},
   "outputs": [
    {
     "name": "stdout",
     "output_type": "stream",
     "text": [
      "Bart\n",
      "Simpson\n",
      "Mike\n"
     ]
    }
   ],
   "source": [
    "child_1 = Child(\"Bart\", \"Simpson\")\n",
    "print(child_1.firstname)\n",
    "print(child_1.lastname)\n",
    "child_1.printname(\"Mike\")"
   ]
  },
  {
   "cell_type": "markdown",
   "metadata": {},
   "source": [
    "1. **Constructor (__init__) Inheritance:**\n",
    "\n",
    "The `Child` class inherits the constructor (__init__) of the Parent class. When you create an instance of the `Child` class, it can still be initialized with the same arguments as the `Parent` class constructor (fname and lname). This means that the `Child` class inherits the ability to create instances with firstname and lastname attributes.\n",
    "\n",
    "2. **Method Inheritance:**\n",
    "\n",
    "The `Child` class inherits the printname method from the `Parent` class. However, the `Child` class also defines its own version of the printname method. This demonstrates method overriding, where the `Child` class provides its own implementation of a method with the same name as the one inherited from the `Parent` class."
   ]
  },
  {
   "cell_type": "markdown",
   "metadata": {},
   "source": [
    "### Example 3: Simple inheritance w/ `super.__init__()`"
   ]
  },
  {
   "cell_type": "code",
   "execution_count": 31,
   "metadata": {},
   "outputs": [],
   "source": [
    "class Parent:\n",
    "    def __init__(self, fname, lname):\n",
    "      self.firstname = fname\n",
    "      self.lastname = lname\n",
    "\n",
    "    def printname(self):\n",
    "      print(self.firstname, self.lastname)\n",
    "\n",
    "\n",
    "class Child(Parent):\n",
    "    def __init__(self, fname, lname, age):\n",
    "      super().__init__(fname, lname)\n",
    "      self.age = age\n",
    "      \n",
    "  # Example of method overiding\n",
    "    # def printname(self, alt_name):\n",
    "    #   print(alt_name)\n",
    "  \n",
    "    def get_age(self):\n",
    "      print('Age of child is:', self.age)"
   ]
  },
  {
   "cell_type": "code",
   "execution_count": 43,
   "metadata": {},
   "outputs": [
    {
     "name": "stdout",
     "output_type": "stream",
     "text": [
      "Parent's Full Name: Homer Simpson\n",
      "Homer Simpson\n"
     ]
    }
   ],
   "source": [
    "parent_1 = Parent(\"Homer\", \"Simpson\")\n",
    "print(\"Parent's Full Name:\", parent_1.firstname, parent_1.lastname)\n",
    "parent_1.printname()"
   ]
  },
  {
   "cell_type": "code",
   "execution_count": 33,
   "metadata": {},
   "outputs": [
    {
     "name": "stdout",
     "output_type": "stream",
     "text": [
      "Bart Simpson\n",
      "Age of child is: 10\n"
     ]
    }
   ],
   "source": [
    "child_1 = Child(\"Bart\", \"Simpson\", 10)\n",
    "# print(\"Child's Full Name:\", child_1.firstname, child_1.lastname)\n",
    "child_1.printname()\n",
    "child_1.get_age()"
   ]
  },
  {
   "cell_type": "code",
   "execution_count": 34,
   "metadata": {},
   "outputs": [
    {
     "data": {
      "text/plain": [
       "(__main__.Child, __main__.Parent, object)"
      ]
     },
     "execution_count": 34,
     "metadata": {},
     "output_type": "execute_result"
    }
   ],
   "source": [
    "Child.__mro__"
   ]
  },
  {
   "cell_type": "markdown",
   "metadata": {},
   "source": [
    "1. **Constructor (__init__) Inheritance:**\n",
    "\n",
    "The `Child` class inherits the constructor (__init__) of the Parent class. When you create an instance of the `Child` class, it can still be initialized with the same arguments as the `Parent` class constructor (fname and lname). This means that the `Child` class inherits the ability to create instances with firstname and lastname attributes.\n",
    "\n",
    "2. **Method Inheritance:**\n",
    "\n",
    "The `Child` class inherits the printname method from the `Parent` class. However, the `Child` class also defines its own version of the printname method. This demonstrates method overriding, where the `Child` class provides its own implementation of a method with the same name as the one inherited from the `Parent` class."
   ]
  },
  {
   "cell_type": "markdown",
   "metadata": {},
   "source": [
    "### Useful tricks"
   ]
  },
  {
   "cell_type": "code",
   "execution_count": 35,
   "metadata": {},
   "outputs": [
    {
     "name": "stdout",
     "output_type": "stream",
     "text": [
      "\u001b[0;31mInit signature:\u001b[0m \u001b[0mParent\u001b[0m\u001b[0;34m(\u001b[0m\u001b[0mfname\u001b[0m\u001b[0;34m,\u001b[0m \u001b[0mlname\u001b[0m\u001b[0;34m)\u001b[0m\u001b[0;34m\u001b[0m\u001b[0;34m\u001b[0m\u001b[0m\n",
      "\u001b[0;31mDocstring:\u001b[0m      <no docstring>\n",
      "\u001b[0;31mType:\u001b[0m           type\n",
      "\u001b[0;31mSubclasses:\u001b[0m     Child\n"
     ]
    }
   ],
   "source": [
    "Parent?"
   ]
  },
  {
   "cell_type": "code",
   "execution_count": 36,
   "metadata": {},
   "outputs": [
    {
     "name": "stdout",
     "output_type": "stream",
     "text": [
      "\u001b[0;31mInit signature:\u001b[0m \u001b[0mChild\u001b[0m\u001b[0;34m(\u001b[0m\u001b[0mfname\u001b[0m\u001b[0;34m,\u001b[0m \u001b[0mlname\u001b[0m\u001b[0;34m,\u001b[0m \u001b[0mage\u001b[0m\u001b[0;34m)\u001b[0m\u001b[0;34m\u001b[0m\u001b[0;34m\u001b[0m\u001b[0m\n",
      "\u001b[0;31mDocstring:\u001b[0m      <no docstring>\n",
      "\u001b[0;31mType:\u001b[0m           type\n",
      "\u001b[0;31mSubclasses:\u001b[0m     \n"
     ]
    }
   ],
   "source": [
    "Child?"
   ]
  },
  {
   "cell_type": "code",
   "execution_count": 37,
   "metadata": {},
   "outputs": [
    {
     "name": "stdout",
     "output_type": "stream",
     "text": [
      "True\n"
     ]
    }
   ],
   "source": [
    "print(issubclass(Child, Parent))"
   ]
  },
  {
   "cell_type": "code",
   "execution_count": 44,
   "metadata": {},
   "outputs": [
    {
     "name": "stdout",
     "output_type": "stream",
     "text": [
      "True\n",
      "True\n",
      "True\n"
     ]
    }
   ],
   "source": [
    "print(isinstance(child_1, Child))\n",
    "print(isinstance(child_1, Parent))\n",
    "print(isinstance(parent_1, object))"
   ]
  },
  {
   "cell_type": "code",
   "execution_count": 40,
   "metadata": {},
   "outputs": [
    {
     "data": {
      "text/plain": [
       "[__main__.Child, __main__.Parent, object]"
      ]
     },
     "execution_count": 40,
     "metadata": {},
     "output_type": "execute_result"
    }
   ],
   "source": [
    "Child.mro()"
   ]
  },
  {
   "cell_type": "markdown",
   "metadata": {},
   "source": [
    "In Python, every class is implicitly derived from a base class called object. This makes object the root of the class hierarchy in Python.\n",
    "\n",
    "The object class provides certain default behaviors and methods that are inherited by all other classes. These include methods like `__init__, __str__, __repr__, __eq__,` etc.\n",
    "\n",
    "e.g. if you create a class without explicitly specifying a parent class, it will implicitly inherit from object"
   ]
  },
  {
   "cell_type": "code",
   "execution_count": 41,
   "metadata": {},
   "outputs": [
    {
     "name": "stdout",
     "output_type": "stream",
     "text": [
      "True\n"
     ]
    }
   ],
   "source": [
    "class MyClass:\n",
    "    pass\n",
    "\n",
    "obj = MyClass()\n",
    "print(isinstance(obj, object))  "
   ]
  },
  {
   "cell_type": "markdown",
   "metadata": {},
   "source": [
    "## Multilevel Inheritance (chain of inheritance)"
   ]
  },
  {
   "cell_type": "markdown",
   "metadata": {},
   "source": [
    "The `super().__init__()` it calls the `__init__` method of the immediate parent class in the method resolution order (MRO) of the subclass. Python uses a mechanism called C3 Linearization (C3 superclass linearization algorithm) to determine the order in which classes are searched when you use super().\n",
    "\n",
    "Here's a brief explanation of how it works:\n",
    "\n",
    "When you call `super().__init__()` within a subclass, Python looks at the MRO to find the next class in line.\n",
    "The MRO is determined based on the class's inheritance hierarchy and the C3 Linearization algorithm.\n",
    "Python calls the `__init__` method of the next class in the MRO, which is usually the immediate parent class.\n",
    "If there are multiple levels of inheritance (e.g., grandparent, parent, child), calling `super().__init__()` in the child class will only invoke the `__init__` method of the immediate parent class. If you want to call the` __init__` methods of multiple parent classes in a complex inheritance hierarchy, you would need to use super() multiple times in your code, specifying the appropriate parent class in each call."
   ]
  },
  {
   "cell_type": "code",
   "execution_count": 45,
   "metadata": {},
   "outputs": [],
   "source": [
    "class GrandParent:\n",
    "    def __init__(self, fname, lname):\n",
    "      self.firstname = fname\n",
    "      self.lastname = lname\n",
    "\n",
    "    def printname(self):\n",
    "      print(self.firstname, self.lastname)\n",
    "\n",
    "\n",
    "class Parent(GrandParent):\n",
    "    def __init__(self, fname, lname, age):\n",
    "      super().__init__(fname, lname)\n",
    "      self.age = age\n",
    "\n",
    "    def get_age(self):\n",
    "      print('Age of child is:', self.age)\n",
    "   \n",
    "class Child(Parent):\n",
    "    #pass\n",
    "    def __init__(self, fname, lname, age, height):\n",
    "        super().__init__(fname, lname, age) \n",
    "        self.height = height\n",
    "        \n",
    "    def get_height(self):\n",
    "      print(f'Height of child is: {self.height}cm')"
   ]
  },
  {
   "cell_type": "code",
   "execution_count": 140,
   "metadata": {},
   "outputs": [
    {
     "data": {
      "text/plain": [
       "(__main__.Child, __main__.Parent, __main__.GrandParent, object)"
      ]
     },
     "execution_count": 140,
     "metadata": {},
     "output_type": "execute_result"
    }
   ],
   "source": [
    "Child.__mro__"
   ]
  },
  {
   "cell_type": "code",
   "execution_count": 46,
   "metadata": {},
   "outputs": [
    {
     "name": "stdout",
     "output_type": "stream",
     "text": [
      "Parent's Full Name: Homer Simpson\n",
      "Homer Simpson\n"
     ]
    }
   ],
   "source": [
    "grandparent_1 = GrandParent(\"Homer\", \"Simpson\")\n",
    "print(\"Parent's Full Name:\", grandparent_1.firstname, grandparent_1.lastname)\n",
    "grandparent_1.printname()"
   ]
  },
  {
   "cell_type": "code",
   "execution_count": null,
   "metadata": {},
   "outputs": [],
   "source": [
    "parent_1 = Parent(\"Bart\", \"Simpson\", 30)\n",
    "print(\"Child's Full Name:\", parent_1.firstname, parent_1.lastname)\n",
    "parent_1.printname()\n",
    "parent_1.get_age()"
   ]
  },
  {
   "cell_type": "code",
   "execution_count": 47,
   "metadata": {},
   "outputs": [
    {
     "name": "stdout",
     "output_type": "stream",
     "text": [
      "Child's Full Name: Todd Simpson\n",
      "Todd Simpson\n",
      "Age of child is: 5\n",
      "Height of child is: 80cm\n"
     ]
    }
   ],
   "source": [
    "child_1 = Child(\"Todd\", \"Simpson\", 5, 80)\n",
    "print(\"Child's Full Name:\", child_1.firstname, child_1.lastname)\n",
    "child_1.printname()\n",
    "child_1.get_age()\n",
    "child_1.get_height()"
   ]
  },
  {
   "cell_type": "markdown",
   "metadata": {},
   "source": [
    "## Multiple Inheritance"
   ]
  },
  {
   "cell_type": "markdown",
   "metadata": {},
   "source": [
    "- a class inherits from more than one parent class\n",
    "- a class can have multiple base classes"
   ]
  },
  {
   "cell_type": "code",
   "execution_count": 59,
   "metadata": {},
   "outputs": [
    {
     "name": "stdout",
     "output_type": "stream",
     "text": [
      "Init of parent1\n",
      "Init of parent2\n"
     ]
    }
   ],
   "source": [
    "class Parent1:\n",
    "    def __init__(self):\n",
    "      print('Init of parent1')\n",
    "\n",
    "\n",
    "class Parent2():\n",
    "    def __init__(self):\n",
    "      print('Init of parent2')\n",
    "\n",
    "\n",
    "class Child(Parent1, Parent2):\n",
    "    pass\n",
    "    # Example 1: will only access Parent1\n",
    "    # def __init__(self):\n",
    "    #     super().__init__() \n",
    "    #     super().__init__() # This will still point at the next class in MRO, Parent1 not Parent2\n",
    "\n",
    "    # Example 2: Will access both parents\n",
    "    # def __init__(self):\n",
    "    #     Parent2.__init__(self) \n",
    "    #     Parent1.__init__(self) \n",
    "\n",
    "    # Example 3: Will access both parents\n",
    "    # call the __init__ method of the next class in the method resolution order (MRO) after Parent1\n",
    "    # def __init__(self):\n",
    "    #     super().__init__() \n",
    "    #     super(Parent1, self).__init__() \n",
    "\n",
    "child_1 = Child()"
   ]
  },
  {
   "cell_type": "code",
   "execution_count": 56,
   "metadata": {},
   "outputs": [
    {
     "data": {
      "text/plain": [
       "(__main__.Child, __main__.Parent1, __main__.Parent2, object)"
      ]
     },
     "execution_count": 56,
     "metadata": {},
     "output_type": "execute_result"
    }
   ],
   "source": [
    "Child.__mro__"
   ]
  },
  {
   "cell_type": "markdown",
   "metadata": {},
   "source": [
    "### Must know!\n",
    "\n",
    "Both multilevel and multiple inheritance if used excessively introduce issues!"
   ]
  },
  {
   "cell_type": "code",
   "execution_count": 60,
   "metadata": {},
   "outputs": [
    {
     "name": "stdout",
     "output_type": "stream",
     "text": [
      "eat\n"
     ]
    }
   ],
   "source": [
    "# multilevel - chain of inheritance\n",
    "\n",
    "class Animal:\n",
    "    def eat(self):\n",
    "        print(\"eat\")\n",
    "\n",
    "class Bird(Animal):\n",
    "    def fly(self):\n",
    "        print(\"fly\")\n",
    "\n",
    "b = Bird()\n",
    "b.eat()\n",
    "b.fly()"
   ]
  },
  {
   "cell_type": "code",
   "execution_count": null,
   "metadata": {},
   "outputs": [],
   "source": [
    "class Chicken(Bird):\n",
    "    pass # this is an empty class which does nothing.Used when you need to have a class but you do not want to add any code to it"
   ]
  },
  {
   "cell_type": "markdown",
   "metadata": {},
   "source": [
    "- the problem is that chicken can fly but it should not be able to fly. This is **inheritance abuse** (**inheritance hell** or **deep inheritance**)\n",
    "\n",
    "##### General rule of thumb: use 1-2 level inheritance. If you need more levels of inheritance you should rethink your design"
   ]
  }
 ],
 "metadata": {
  "kernelspec": {
   "display_name": "pandas_demos_env",
   "language": "python",
   "name": "python3"
  },
  "language_info": {
   "codemirror_mode": {
    "name": "ipython",
    "version": 3
   },
   "file_extension": ".py",
   "mimetype": "text/x-python",
   "name": "python",
   "nbconvert_exporter": "python",
   "pygments_lexer": "ipython3",
   "version": "3.9.12"
  },
  "orig_nbformat": 4
 },
 "nbformat": 4,
 "nbformat_minor": 2
}
